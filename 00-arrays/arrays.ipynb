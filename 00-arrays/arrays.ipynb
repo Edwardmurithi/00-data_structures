{
 "cells": [
  {
   "cell_type": "code",
   "execution_count": 1,
   "metadata": {},
   "outputs": [
    {
     "name": "stdout",
     "output_type": "stream",
     "text": [
      "10\n"
     ]
    }
   ],
   "source": [
    "# Indexing\n",
    "arr = [10, 20, 30, 40, 50]\n",
    "print(arr[0])"
   ]
  },
  {
   "cell_type": "markdown",
   "metadata": {},
   "source": [
    "# Insersion\n",
    "is the processes of adding elements to an array. for a static array, this is limited by the predified size. For dynamic array, elements can be added as needed\n",
    "\n",
    "# Insertion scenarios\n",
    "- At the end - Element is added to the end of an array\n",
    "- At the begining - All elements are shifted to the right and new element occupies the first index\n",
    "- At a specified index - Elements are shifted to the right to create space at specified index\n"
   ]
  },
  {
   "cell_type": "code",
   "execution_count": null,
   "metadata": {},
   "outputs": [],
   "source": [
    "arr = [1, 3, 4, 6, 8]"
   ]
  }
 ],
 "metadata": {
  "kernelspec": {
   "display_name": "Python 3",
   "language": "python",
   "name": "python3"
  },
  "language_info": {
   "codemirror_mode": {
    "name": "ipython",
    "version": 3
   },
   "file_extension": ".py",
   "mimetype": "text/x-python",
   "name": "python",
   "nbconvert_exporter": "python",
   "pygments_lexer": "ipython3",
   "version": "3.10.12"
  }
 },
 "nbformat": 4,
 "nbformat_minor": 2
}
